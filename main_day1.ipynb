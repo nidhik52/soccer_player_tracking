{
 "cells": [
  {
   "cell_type": "code",
   "execution_count": null,
   "id": "8da06774",
   "metadata": {},
   "outputs": [
    {
     "name": "stdout",
     "output_type": "stream",
     "text": [
      "Requirement already satisfied: ultralytics in c:\\users\\user\\onedrive\\desktop\\stealth mode task\\venv\\lib\\site-packages (8.3.158)\n",
      "Requirement already satisfied: opencv-python in c:\\users\\user\\onedrive\\desktop\\stealth mode task\\venv\\lib\\site-packages (4.11.0.86)\n",
      "Requirement already satisfied: matplotlib in c:\\users\\user\\onedrive\\desktop\\stealth mode task\\venv\\lib\\site-packages (3.10.3)\n",
      "Requirement already satisfied: numpy>=1.23.0 in c:\\users\\user\\onedrive\\desktop\\stealth mode task\\venv\\lib\\site-packages (from ultralytics) (2.3.1)\n",
      "Requirement already satisfied: pillow>=7.1.2 in c:\\users\\user\\onedrive\\desktop\\stealth mode task\\venv\\lib\\site-packages (from ultralytics) (11.2.1)\n",
      "Requirement already satisfied: pyyaml>=5.3.1 in c:\\users\\user\\onedrive\\desktop\\stealth mode task\\venv\\lib\\site-packages (from ultralytics) (6.0.2)\n",
      "Requirement already satisfied: requests>=2.23.0 in c:\\users\\user\\onedrive\\desktop\\stealth mode task\\venv\\lib\\site-packages (from ultralytics) (2.32.4)\n",
      "Requirement already satisfied: scipy>=1.4.1 in c:\\users\\user\\onedrive\\desktop\\stealth mode task\\venv\\lib\\site-packages (from ultralytics) (1.16.0)\n",
      "Requirement already satisfied: torch>=1.8.0 in c:\\users\\user\\onedrive\\desktop\\stealth mode task\\venv\\lib\\site-packages (from ultralytics) (2.7.1)\n",
      "Requirement already satisfied: torchvision>=0.9.0 in c:\\users\\user\\onedrive\\desktop\\stealth mode task\\venv\\lib\\site-packages (from ultralytics) (0.22.1)\n",
      "Requirement already satisfied: tqdm>=4.64.0 in c:\\users\\user\\onedrive\\desktop\\stealth mode task\\venv\\lib\\site-packages (from ultralytics) (4.67.1)\n",
      "Requirement already satisfied: psutil in c:\\users\\user\\onedrive\\desktop\\stealth mode task\\venv\\lib\\site-packages (from ultralytics) (7.0.0)\n",
      "Requirement already satisfied: py-cpuinfo in c:\\users\\user\\onedrive\\desktop\\stealth mode task\\venv\\lib\\site-packages (from ultralytics) (9.0.0)\n",
      "Requirement already satisfied: pandas>=1.1.4 in c:\\users\\user\\onedrive\\desktop\\stealth mode task\\venv\\lib\\site-packages (from ultralytics) (2.3.0)\n",
      "Requirement already satisfied: ultralytics-thop>=2.0.0 in c:\\users\\user\\onedrive\\desktop\\stealth mode task\\venv\\lib\\site-packages (from ultralytics) (2.0.14)\n",
      "Requirement already satisfied: contourpy>=1.0.1 in c:\\users\\user\\onedrive\\desktop\\stealth mode task\\venv\\lib\\site-packages (from matplotlib) (1.3.2)\n",
      "Requirement already satisfied: cycler>=0.10 in c:\\users\\user\\onedrive\\desktop\\stealth mode task\\venv\\lib\\site-packages (from matplotlib) (0.12.1)\n",
      "Requirement already satisfied: fonttools>=4.22.0 in c:\\users\\user\\onedrive\\desktop\\stealth mode task\\venv\\lib\\site-packages (from matplotlib) (4.58.4)\n",
      "Requirement already satisfied: kiwisolver>=1.3.1 in c:\\users\\user\\onedrive\\desktop\\stealth mode task\\venv\\lib\\site-packages (from matplotlib) (1.4.8)\n",
      "Requirement already satisfied: packaging>=20.0 in c:\\users\\user\\onedrive\\desktop\\stealth mode task\\venv\\lib\\site-packages (from matplotlib) (25.0)\n",
      "Requirement already satisfied: pyparsing>=2.3.1 in c:\\users\\user\\onedrive\\desktop\\stealth mode task\\venv\\lib\\site-packages (from matplotlib) (3.2.3)\n",
      "Requirement already satisfied: python-dateutil>=2.7 in c:\\users\\user\\onedrive\\desktop\\stealth mode task\\venv\\lib\\site-packages (from matplotlib) (2.9.0.post0)\n",
      "Requirement already satisfied: pytz>=2020.1 in c:\\users\\user\\onedrive\\desktop\\stealth mode task\\venv\\lib\\site-packages (from pandas>=1.1.4->ultralytics) (2025.2)\n",
      "Requirement already satisfied: tzdata>=2022.7 in c:\\users\\user\\onedrive\\desktop\\stealth mode task\\venv\\lib\\site-packages (from pandas>=1.1.4->ultralytics) (2025.2)\n",
      "Requirement already satisfied: six>=1.5 in c:\\users\\user\\onedrive\\desktop\\stealth mode task\\venv\\lib\\site-packages (from python-dateutil>=2.7->matplotlib) (1.17.0)\n",
      "Requirement already satisfied: charset_normalizer<4,>=2 in c:\\users\\user\\onedrive\\desktop\\stealth mode task\\venv\\lib\\site-packages (from requests>=2.23.0->ultralytics) (3.4.2)\n",
      "Requirement already satisfied: idna<4,>=2.5 in c:\\users\\user\\onedrive\\desktop\\stealth mode task\\venv\\lib\\site-packages (from requests>=2.23.0->ultralytics) (3.10)\n",
      "Requirement already satisfied: urllib3<3,>=1.21.1 in c:\\users\\user\\onedrive\\desktop\\stealth mode task\\venv\\lib\\site-packages (from requests>=2.23.0->ultralytics) (2.5.0)\n",
      "Requirement already satisfied: certifi>=2017.4.17 in c:\\users\\user\\onedrive\\desktop\\stealth mode task\\venv\\lib\\site-packages (from requests>=2.23.0->ultralytics) (2025.6.15)\n",
      "Requirement already satisfied: filelock in c:\\users\\user\\onedrive\\desktop\\stealth mode task\\venv\\lib\\site-packages (from torch>=1.8.0->ultralytics) (3.18.0)\n",
      "Requirement already satisfied: typing-extensions>=4.10.0 in c:\\users\\user\\onedrive\\desktop\\stealth mode task\\venv\\lib\\site-packages (from torch>=1.8.0->ultralytics) (4.14.0)\n",
      "Requirement already satisfied: sympy>=1.13.3 in c:\\users\\user\\onedrive\\desktop\\stealth mode task\\venv\\lib\\site-packages (from torch>=1.8.0->ultralytics) (1.14.0)\n",
      "Requirement already satisfied: networkx in c:\\users\\user\\onedrive\\desktop\\stealth mode task\\venv\\lib\\site-packages (from torch>=1.8.0->ultralytics) (3.5)\n",
      "Requirement already satisfied: jinja2 in c:\\users\\user\\onedrive\\desktop\\stealth mode task\\venv\\lib\\site-packages (from torch>=1.8.0->ultralytics) (3.1.6)\n",
      "Requirement already satisfied: fsspec in c:\\users\\user\\onedrive\\desktop\\stealth mode task\\venv\\lib\\site-packages (from torch>=1.8.0->ultralytics) (2025.5.1)\n",
      "Requirement already satisfied: setuptools in c:\\users\\user\\onedrive\\desktop\\stealth mode task\\venv\\lib\\site-packages (from torch>=1.8.0->ultralytics) (80.9.0)\n",
      "Requirement already satisfied: colorama in c:\\users\\user\\onedrive\\desktop\\stealth mode task\\venv\\lib\\site-packages (from tqdm>=4.64.0->ultralytics) (0.4.6)\n",
      "Requirement already satisfied: mpmath<1.4,>=1.1.0 in c:\\users\\user\\onedrive\\desktop\\stealth mode task\\venv\\lib\\site-packages (from sympy>=1.13.3->torch>=1.8.0->ultralytics) (1.3.0)\n",
      "Requirement already satisfied: MarkupSafe>=2.0 in c:\\users\\user\\onedrive\\desktop\\stealth mode task\\venv\\lib\\site-packages (from jinja2->torch>=1.8.0->ultralytics) (3.0.2)\n",
      "Note: you may need to restart the kernel to use updated packages.\n"
     ]
    }
   ],
   "source": [
    "%pip install ultralytics opencv-python matplotlib"
   ]
  },
  {
   "cell_type": "code",
   "execution_count": null,
   "id": "c388c724",
   "metadata": {},
   "outputs": [
    {
     "name": "stdout",
     "output_type": "stream",
     "text": [
      "\n",
      "0: 384x640 1 ball, 16 players, 2 referees, 12269.2ms\n",
      "Speed: 16.8ms preprocess, 12269.2ms inference, 6.2ms postprocess per image at shape (1, 3, 384, 640)\n",
      "Saved frame_000.jpg\n",
      "\n",
      "0: 384x640 18 players, 2 referees, 18723.6ms\n",
      "Speed: 11.2ms preprocess, 18723.6ms inference, 5.8ms postprocess per image at shape (1, 3, 384, 640)\n",
      "Saved frame_001.jpg\n",
      "\n",
      "0: 384x640 1 ball, 16 players, 2 referees, 12134.4ms\n",
      "Speed: 37.4ms preprocess, 12134.4ms inference, 7.3ms postprocess per image at shape (1, 3, 384, 640)\n",
      "Saved frame_002.jpg\n",
      "\n",
      "0: 384x640 1 ball, 14 players, 2 referees, 14907.0ms\n",
      "Speed: 13.0ms preprocess, 14907.0ms inference, 12.8ms postprocess per image at shape (1, 3, 384, 640)\n",
      "Saved frame_003.jpg\n",
      "\n",
      "0: 384x640 1 ball, 14 players, 2 referees, 14514.5ms\n",
      "Speed: 143.3ms preprocess, 14514.5ms inference, 4.8ms postprocess per image at shape (1, 3, 384, 640)\n",
      "Saved frame_004.jpg\n",
      "\n",
      "0: 384x640 1 ball, 16 players, 2 referees, 12652.4ms\n",
      "Speed: 17.8ms preprocess, 12652.4ms inference, 6.9ms postprocess per image at shape (1, 3, 384, 640)\n",
      "Saved frame_005.jpg\n",
      "\n",
      "0: 384x640 15 players, 2 referees, 12406.2ms\n",
      "Speed: 15.5ms preprocess, 12406.2ms inference, 5.4ms postprocess per image at shape (1, 3, 384, 640)\n",
      "Saved frame_006.jpg\n",
      "\n",
      "0: 384x640 15 players, 1 referee, 13906.4ms\n",
      "Speed: 34.3ms preprocess, 13906.4ms inference, 5.4ms postprocess per image at shape (1, 3, 384, 640)\n",
      "Saved frame_007.jpg\n",
      "\n",
      "0: 384x640 1 ball, 16 players, 1 referee, 13737.4ms\n",
      "Speed: 21.7ms preprocess, 13737.4ms inference, 5.5ms postprocess per image at shape (1, 3, 384, 640)\n",
      "Saved frame_008.jpg\n",
      "\n",
      "0: 384x640 1 ball, 15 players, 2 referees, 17025.0ms\n",
      "Speed: 81.5ms preprocess, 17025.0ms inference, 11.6ms postprocess per image at shape (1, 3, 384, 640)\n",
      "Saved frame_009.jpg\n",
      " Detection complete.\n"
     ]
    }
   ],
   "source": [
    "from ultralytics import YOLO\n",
    "import cv2\n",
    "import os\n",
    "\n",
    "# Settings\n",
    "VIDEO_PATH = \"15sec_input_720p.mp4\"\n",
    "MODEL_PATH = \"best.pt\"\n",
    "OUTPUT_DIR = \"detected_frames_day1\"\n",
    "MAX_FRAMES = 10  # process first 10 frames\n",
    "\n",
    "# === Setup ===\n",
    "os.makedirs(OUTPUT_DIR, exist_ok=True)\n",
    "\n",
    "# Load model\n",
    "model = YOLO(MODEL_PATH)\n",
    "\n",
    "# Load video\n",
    "cap = cv2.VideoCapture(VIDEO_PATH)\n",
    "\n",
    "frame_id = 0\n",
    "\n",
    "while frame_id < MAX_FRAMES:\n",
    "    ret, frame = cap.read()\n",
    "    if not ret:\n",
    "        break\n",
    "\n",
    "    # Run YOLO detection\n",
    "    results = model(frame)\n",
    "\n",
    "    # Annotate and save frame\n",
    "    annotated = results[0].plot()\n",
    "    cv2.imwrite(f\"{OUTPUT_DIR}/frame_{frame_id:03}.jpg\", annotated)\n",
    "    print(f\"Saved frame_{frame_id:03}.jpg\")\n",
    "\n",
    "    frame_id += 1\n",
    "\n",
    "cap.release()\n",
    "print(\" Detection complete.\")"
   ]
  },
  {
   "cell_type": "code",
   "execution_count": null,
   "id": "3c30c864",
   "metadata": {},
   "outputs": [
    {
     "name": "stdout",
     "output_type": "stream",
     "text": [
      "Classes in model: {0: 'ball', 1: 'goalkeeper', 2: 'player', 3: 'referee'}\n"
     ]
    }
   ],
   "source": [
    "# Shows classes in the model\n",
    "print(\"Classes in model:\", model.names)"
   ]
  }
 ],
 "metadata": {
  "kernelspec": {
   "display_name": "venv",
   "language": "python",
   "name": "python3"
  },
  "language_info": {
   "codemirror_mode": {
    "name": "ipython",
    "version": 3
   },
   "file_extension": ".py",
   "mimetype": "text/x-python",
   "name": "python",
   "nbconvert_exporter": "python",
   "pygments_lexer": "ipython3",
   "version": "3.12.6"
  }
 },
 "nbformat": 4,
 "nbformat_minor": 5
}
